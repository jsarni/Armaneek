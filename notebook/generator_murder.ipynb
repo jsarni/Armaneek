{
 "cells": [
  {
   "cell_type": "code",
   "execution_count": 5,
   "metadata": {},
   "outputs": [],
   "source": [
    "import os\n",
    "from pathlib import Path\n",
    "from tokenizers.models import BPE\n",
    "from tokenizers import Tokenizer\n",
    "from tokenizers.decoders import ByteLevel as ByteLevelDecoder\n",
    "from tokenizers.normalizers import NFKC, Sequence\n",
    "from tokenizers.pre_tokenizers import ByteLevel\n",
    "from tokenizers.trainers import BpeTrainer\n",
    "import tensorflow as tf\n",
    "from transformers import GPT2Config, TFGPT2LMHeadModel, GPT2Tokenizer\n",
    "from transformers import pipeline"
   ]
  },
  {
   "cell_type": "code",
   "execution_count": 8,
   "metadata": {},
   "outputs": [
    {
     "name": "stderr",
     "output_type": "stream",
     "text": [
      "All model checkpoint layers were used when initializing TFGPT2LMHeadModel.\n",
      "\n",
      "All the layers of TFGPT2LMHeadModel were initialized from the model checkpoint at ./model_gpt2_murder/.\n",
      "If your task is similar to the task the model of the checkpoint was trained on, you can already use TFGPT2LMHeadModel for predictions without further training.\n"
     ]
    }
   ],
   "source": [
    "PATH = '../models/model_gpt2_murder/'\n",
    "tokenizer = GPT2Tokenizer.from_pretrained(PATH, local_files_only=True)\n",
    "model = TFGPT2LMHeadModel.from_pretrained(PATH, local_files_only=True)"
   ]
  },
  {
   "cell_type": "code",
   "execution_count": 14,
   "metadata": {},
   "outputs": [
    {
     "name": "stderr",
     "output_type": "stream",
     "text": [
      "Setting `pad_token_id` to 2 (first `eos_token_id`) to generate sequence\n"
     ]
    }
   ],
   "source": [
    "text = \"It was a cold night\"\n",
    "# encoding the input text\n",
    "input_ids = tokenizer.encode(text, return_tensors='tf')\n",
    "# getting out output\n",
    "beam_output = model.generate(\n",
    "  input_ids,\n",
    "  max_length = 500,\n",
    "  num_beams = 5,\n",
    "  temperature = 0.7,\n",
    "  no_repeat_ngram_size=2,\n",
    "  num_return_sequences=5\n",
    ")\n"
   ]
  },
  {
   "cell_type": "code",
   "execution_count": 15,
   "metadata": {},
   "outputs": [
    {
     "data": {
      "text/plain": [
       "'It was a cold night, and the two of them had a conversation about how they got a phone call from the police. They tell him that they have to go to a local bar, where they can\\'t get the money. He tells them that he\\'s going to get a job, but he\\'ll get to take a drink the phone there. She can get him to come there and they\\'ll go there for a couple of the bus. The car. Miles and he gets a few of a lot, he can.They have a little of days. A couple.A few minutes of seconds.00.m go home, they get in the other.I can to the car and a moment.L.T.B.R.D.E.C.S.K.M.V.O.The. and there to meet and get there\\'s there, the next and she\\'s not to tell to make a week to leave, at the job.At.N.\\'I.G.\\n ( ( and go out and that, to have the rest of $.H.\\'L.\\'s.F.\\'A.P. (L., and then he will and one, for the bank and tells and it\\'s the end to be there (The he get at go at a while he has to find.W. to see the train.In.J. J. unit and for 5.U. One.It. There, with the last.5. - and to show to wait..Y.\\'D.\\' and another, in there he is he, as he tells the right.s, a, there on the best to stay.We. of one. After.7.Meanwhile. where.6. 13. It. In. but to stop. I. at. When he and in a month and is, that there there - to keep he wants to do. agents to give and will, which to spend the meeting to work. This. On the \" he takes the day to pay. for one and, on one he needs to try to live. As he goes there with a.After the FBI. on a meeting. F. His he -, when he for go and and 5, she, after they he could and Miles, so they will he gives the first.Two.As the case and with that for $ and of his, it. with there is the trigger the drop the safe.'"
      ]
     },
     "execution_count": 15,
     "metadata": {},
     "output_type": "execute_result"
    }
   ],
   "source": [
    "tokenizer.decode(beam_output[0])"
   ]
  },
  {
   "cell_type": "code",
   "execution_count": null,
   "metadata": {},
   "outputs": [],
   "source": []
  }
 ],
 "metadata": {
  "kernelspec": {
   "display_name": "nlp",
   "language": "python",
   "name": "nlp"
  },
  "language_info": {
   "codemirror_mode": {
    "name": "ipython",
    "version": 3
   },
   "file_extension": ".py",
   "mimetype": "text/x-python",
   "name": "python",
   "nbconvert_exporter": "python",
   "pygments_lexer": "ipython3",
   "version": "3.8.5"
  }
 },
 "nbformat": 4,
 "nbformat_minor": 4
}
