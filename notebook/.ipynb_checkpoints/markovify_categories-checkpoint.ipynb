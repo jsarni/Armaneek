{
 "cells": [
  {
   "cell_type": "code",
   "execution_count": 2,
   "metadata": {},
   "outputs": [],
   "source": [
    "import os\n",
    "import sys\n",
    "import markovify\n",
    "from transformers import pipeline\n",
    "import torch\n",
    "from transformers import GPT2Tokenizer, GPT2LMHeadModel"
   ]
  },
  {
   "cell_type": "code",
   "execution_count": 15,
   "metadata": {},
   "outputs": [],
   "source": [
    "categories_files = \"../dataset/markovify_train\""
   ]
  },
  {
   "cell_type": "code",
   "execution_count": 16,
   "metadata": {},
   "outputs": [],
   "source": [
    "def load_category(category):\n",
    "    file = open(f\"{categories_files}/{category}.txt\")\n",
    "    return file.read()"
   ]
  },
  {
   "cell_type": "code",
   "execution_count": 17,
   "metadata": {},
   "outputs": [
    {
     "name": "stderr",
     "output_type": "stream",
     "text": [
      "Some weights of GPT2Model were not initialized from the model checkpoint at gpt2 and are newly initialized: ['h.0.attn.masked_bias', 'h.1.attn.masked_bias', 'h.2.attn.masked_bias', 'h.3.attn.masked_bias', 'h.4.attn.masked_bias', 'h.5.attn.masked_bias', 'h.6.attn.masked_bias', 'h.7.attn.masked_bias', 'h.8.attn.masked_bias', 'h.9.attn.masked_bias', 'h.10.attn.masked_bias', 'h.11.attn.masked_bias']\n",
      "You should probably TRAIN this model on a down-stream task to be able to use it for predictions and inference.\n"
     ]
    }
   ],
   "source": [
    "tokeniser = GPT2Tokenizer.from_pretrained('gpt2')\n",
    "model = GPT2LMHeadModel.from_pretrained('gpt2')\n",
    "nlp = pipeline(\"text-generation\")\n",
    "\n",
    "text = load_category(\"murder\")\n",
    "\n",
    "text_model = markovify.Text(text)"
   ]
  },
  {
   "cell_type": "code",
   "execution_count": 21,
   "metadata": {},
   "outputs": [
    {
     "name": "stderr",
     "output_type": "stream",
     "text": [
      "Setting `pad_token_id` to `eos_token_id`:50256 for open-end generation.\n"
     ]
    },
    {
     "name": "stdout",
     "output_type": "stream",
     "text": [
      "At Locksley Castle, Robin's father, who has now understood the errors of their ritualistic technique of cauterization as he is unchanged, asking the commissioner and orders the latter has only been able to test Neo.Morpheus and Neo on a charge toward The Annex.\n",
      "**************\n",
      "[{'generated_text': \"At Locksley Castle, Robin's father, who has now understood the errors of their ritualistic technique of cauterization as he is unchanged, asking the commissioner and orders the latter has only been able to test Neo.Morpheus and Neo on a charge toward The Annex. They go into the lobby of the castle.Morpheus orders The Annex to arrest him, and asks to be spared from the consequences. He makes a decision that involves Neo who goes into the dungeons and the others in search of more enemies, and asks Neo that if he and his party have discovered a cure for The Annex, he would help to prevent them from escaping from the castle. Neji, being told of Morpheus' decision is saddened to find that he has to serve a certain purpose, but still offers to help out.In the labyrinth, Neji finds a sign that looks familiar to him and he sets down his sword at Neo, who orders him back. Neji then comes close to breaking his ankle with a sword so close that it causes him immediate paralysis. Neo then tells him the reason the body is injured is because of an abnormal level of their body being moved by gravity. Neo then asks to stay by the tower where one of the corpses is in order to see if any of the corpses has survived their ordeal, but Neo gives him a sign that makes them realize the true reason to stay.Neji then asks to see the body from behind a tree once again as he attempts to break the shackles that hold them from the body, but the tree ends up being completely covered in blood.Neji does this to Neo but Neo refuses so he decides to give him something important and instead just rest at the tower as it leaves.In addition to the other two characters that Neji is shown to trust, he has two girls in his life that he has yet to interact with. All in all, he is sure that any time any of the two girls has a relationship with him then it is a chance to get an answer. However, he has no interest in any of them and so Neo tries to push him and the girls apart.In The Crystal Dream, The Crystal Dweller, and the other two shows Neji another sign of what is in store for Neo as this person has yet to see The Crystal Dream, but has seen Neji's hand when it is used against him with Neo being his second friend that day.\\n\\nIn The Emerald\"}]\n"
     ]
    }
   ],
   "source": [
    "\n",
    "\n",
    "for i in range(1):\n",
    "    intro = text_model.make_short_sentence(500)\n",
    "    print(intro)\n",
    "    print(\"**************\")\n",
    "    print(nlp(intro, max_length=500))"
   ]
  },
  {
   "cell_type": "markdown",
   "metadata": {},
   "source": [
    "«A Locksley Castle, le père de Robin, qui a maintenant compris les erreurs de leur technique rituelle de cautérisation car il est inchangé, demandant au commissaire et ordonne que ce dernier n'a pu tester Neo.Morpheus et Neo que sur une charge envers l'Annexe. Ils entrent dans le hall du château.Morpheus ordonne à l'Annexe de l'arrêter, et demande à être épargné des conséquences. Il prend une décision qui implique Neo qui va dans les donjons et les autres à la recherche de plus d'ennemis, et demande à Neo que si lui et son groupe avaient découvert un remède pour l'Annexe, il aiderait à les empêcher de s'échapper du château. Neji, étant informé de la décision de Morpheus est attristé de constater qu'il doit servir un certain but, mais propose toujours Dans le labyrinthe, Neji trouve un signe qui lui semble familier et il pose son épée sur Neo, qui lui ordonne de revenir. Neji s'approche alors de se casser la cheville avec une épée si proche que cela lui cause une paralysie immédiate . Neo dit alors bonjour m la raison pour laquelle le corps est blessé est due à un niveau anormal de son corps déplacé par gravité. Neo demande alors à rester près de la tour où se trouve l'un des cadavres afin de voir si l'un des cadavres a survécu à leur épreuve, mais Neo lui donne un signe qui leur fait comprendre la vraie raison de rester.Neji demande alors à voir le corps derrière un arbre une fois de plus alors qu'il tente de briser les chaînes qui les retiennent du corps, mais l'arbre finit par être complètement couvert de sang.Neji le fait à Neo mais Neo refuse alors il décide de lui donner quelque chose d'important et à la place Reposez-vous simplement à la tour en partant. En plus des deux autres personnages auxquels Neji a confiance, il a deux filles dans sa vie avec lesquelles il n'a pas encore interagi. Dans l'ensemble, il est sûr que chaque fois qu'une des deux filles a une relation avec lui, c'est une chance d'obtenir une réponse. Cependant, il ne s'intéresse à aucun d'eux et donc Neo essaie de le séparer lui et les filles.Dans The Crystal Dream, The Crystal Dweller, et les deux autres montrent à Neji un autre signe de ce qui est en magasin pour Neo que cette personne a encore à voir The Crystal Dream, mais a vu la main de Neji quand elle est utilisée contre lui avec Neo étant son deuxième ami ce jour-là. Dans l'émeraude \""
   ]
  },
  {
   "cell_type": "code",
   "execution_count": 24,
   "metadata": {},
   "outputs": [
    {
     "name": "stderr",
     "output_type": "stream",
     "text": [
      "Setting `pad_token_id` to `eos_token_id`:50256 for open-end generation.\n"
     ]
    },
    {
     "name": "stdout",
     "output_type": "stream",
     "text": [
      "[{'generated_text': \"Fuck you ! The fuck. I want your face on my chest ! You won't let me go on my knees ! I'll put on my black T-shirt. I said ! I'll show\"}]\n"
     ]
    }
   ],
   "source": [
    "print(nlp(\"Fuck you !\", max_length=40))"
   ]
  },
  {
   "cell_type": "code",
   "execution_count": 3,
   "metadata": {},
   "outputs": [
    {
     "ename": "OSError",
     "evalue": "Error no file named ['pytorch_model.bin', 'tf_model.h5', 'model.ckpt.index'] found in directory ./premier_model/model_gpt2_murder or `from_tf` set to False",
     "output_type": "error",
     "traceback": [
      "\u001b[0;31m---------------------------------------------------------------------------\u001b[0m",
      "\u001b[0;31mOSError\u001b[0m                                   Traceback (most recent call last)",
      "\u001b[0;32m<ipython-input-3-8ca74e38cca0>\u001b[0m in \u001b[0;36m<module>\u001b[0;34m\u001b[0m\n\u001b[0;32m----> 1\u001b[0;31m \u001b[0mmodel\u001b[0m \u001b[0;34m=\u001b[0m \u001b[0mGPT2LMHeadModel\u001b[0m\u001b[0;34m.\u001b[0m\u001b[0mfrom_pretrained\u001b[0m\u001b[0;34m(\u001b[0m\u001b[0;34m'./premier_model/model_gpt2_murder'\u001b[0m\u001b[0;34m)\u001b[0m\u001b[0;34m\u001b[0m\u001b[0;34m\u001b[0m\u001b[0m\n\u001b[0m",
      "\u001b[0;32m~/anaconda3/envs/nlp/lib/python3.8/site-packages/transformers/modeling_utils.py\u001b[0m in \u001b[0;36mfrom_pretrained\u001b[0;34m(cls, pretrained_model_name_or_path, *model_args, **kwargs)\u001b[0m\n\u001b[1;32m    893\u001b[0m                     \u001b[0marchive_file\u001b[0m \u001b[0;34m=\u001b[0m \u001b[0mos\u001b[0m\u001b[0;34m.\u001b[0m\u001b[0mpath\u001b[0m\u001b[0;34m.\u001b[0m\u001b[0mjoin\u001b[0m\u001b[0;34m(\u001b[0m\u001b[0mpretrained_model_name_or_path\u001b[0m\u001b[0;34m,\u001b[0m \u001b[0mWEIGHTS_NAME\u001b[0m\u001b[0;34m)\u001b[0m\u001b[0;34m\u001b[0m\u001b[0;34m\u001b[0m\u001b[0m\n\u001b[1;32m    894\u001b[0m                 \u001b[0;32melse\u001b[0m\u001b[0;34m:\u001b[0m\u001b[0;34m\u001b[0m\u001b[0;34m\u001b[0m\u001b[0m\n\u001b[0;32m--> 895\u001b[0;31m                     raise EnvironmentError(\n\u001b[0m\u001b[1;32m    896\u001b[0m                         \"Error no file named {} found in directory {} or `from_tf` set to False\".format(\n\u001b[1;32m    897\u001b[0m                             \u001b[0;34m[\u001b[0m\u001b[0mWEIGHTS_NAME\u001b[0m\u001b[0;34m,\u001b[0m \u001b[0mTF2_WEIGHTS_NAME\u001b[0m\u001b[0;34m,\u001b[0m \u001b[0mTF_WEIGHTS_NAME\u001b[0m \u001b[0;34m+\u001b[0m \u001b[0;34m\".index\"\u001b[0m\u001b[0;34m]\u001b[0m\u001b[0;34m,\u001b[0m\u001b[0;34m\u001b[0m\u001b[0;34m\u001b[0m\u001b[0m\n",
      "\u001b[0;31mOSError\u001b[0m: Error no file named ['pytorch_model.bin', 'tf_model.h5', 'model.ckpt.index'] found in directory ./premier_model/model_gpt2_murder or `from_tf` set to False"
     ]
    }
   ],
   "source": [
    "\n",
    "model = GPT2LMHeadModel.from_pretrained('./premier_model/model_gpt2_murder')"
   ]
  },
  {
   "cell_type": "code",
   "execution_count": null,
   "metadata": {},
   "outputs": [],
   "source": []
  }
 ],
 "metadata": {
  "kernelspec": {
   "display_name": "nlp",
   "language": "python",
   "name": "nlp"
  },
  "language_info": {
   "codemirror_mode": {
    "name": "ipython",
    "version": 3
   },
   "file_extension": ".py",
   "mimetype": "text/x-python",
   "name": "python",
   "nbconvert_exporter": "python",
   "pygments_lexer": "ipython3",
   "version": "3.8.5"
  }
 },
 "nbformat": 4,
 "nbformat_minor": 4
}
