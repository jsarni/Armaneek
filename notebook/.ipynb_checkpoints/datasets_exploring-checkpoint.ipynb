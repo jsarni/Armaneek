{
 "cells": [
  {
   "cell_type": "markdown",
   "metadata": {},
   "source": [
    "## A notebook for first dataset explorations"
   ]
  },
  {
   "cell_type": "code",
   "execution_count": 1,
   "metadata": {},
   "outputs": [],
   "source": [
    "import pandas as pd"
   ]
  },
  {
   "cell_type": "markdown",
   "metadata": {},
   "source": [
    "### MPST Dataset"
   ]
  },
  {
   "cell_type": "code",
   "execution_count": 2,
   "metadata": {},
   "outputs": [],
   "source": [
    "data = pd.read_csv(\"../dataset/mpts/mpst_full_data.csv\")"
   ]
  },
  {
   "cell_type": "code",
   "execution_count": 3,
   "metadata": {},
   "outputs": [],
   "source": [
    "raw_categories = [[cat for cat in cats.split(\", \")] for cats in data[\"tags\"].tolist()]"
   ]
  },
  {
   "cell_type": "code",
   "execution_count": 4,
   "metadata": {},
   "outputs": [],
   "source": [
    "categories = []\n",
    "for sublist in raw_categories:\n",
    "    for category in sublist:\n",
    "        categories.append(category)\n",
    "categories = set(categories)\n",
    "\n",
    "\n",
    "movies_and_categories = {}\n",
    "for category in categories:\n",
    "    category_movies = []\n",
    "    category_data = data[data[\"tags\"].str.contains(category)][[\"title\", \"plot_synopsis\"]].values.tolist()\n",
    "    for film in category_data:\n",
    "        film_dict = {\"title\": film[0], \"synopsis\": film[1]}\n",
    "        category_movies.append(film_dict)\n",
    "    movies_and_categories[category] = category_movies"
   ]
  },
  {
   "cell_type": "code",
   "execution_count": 5,
   "metadata": {},
   "outputs": [
    {
     "data": {
      "text/plain": [
       "{'absurd',\n",
       " 'action',\n",
       " 'adult comedy',\n",
       " 'allegory',\n",
       " 'alternate history',\n",
       " 'alternate reality',\n",
       " 'anti war',\n",
       " 'atmospheric',\n",
       " 'autobiographical',\n",
       " 'avant garde',\n",
       " 'blaxploitation',\n",
       " 'bleak',\n",
       " 'boring',\n",
       " 'brainwashing',\n",
       " 'christian film',\n",
       " 'claustrophobic',\n",
       " 'clever',\n",
       " 'comedy',\n",
       " 'comic',\n",
       " 'cruelty',\n",
       " 'cult',\n",
       " 'cute',\n",
       " 'dark',\n",
       " 'depressing',\n",
       " 'dramatic',\n",
       " 'entertaining',\n",
       " 'fantasy',\n",
       " 'feel-good',\n",
       " 'flashback',\n",
       " 'good versus evil',\n",
       " 'gothic',\n",
       " 'grindhouse film',\n",
       " 'haunting',\n",
       " 'historical',\n",
       " 'historical fiction',\n",
       " 'home movie',\n",
       " 'horror',\n",
       " 'humor',\n",
       " 'insanity',\n",
       " 'inspiring',\n",
       " 'intrigue',\n",
       " 'magical realism',\n",
       " 'melodrama',\n",
       " 'murder',\n",
       " 'mystery',\n",
       " 'neo noir',\n",
       " 'non fiction',\n",
       " 'paranormal',\n",
       " 'philosophical',\n",
       " 'plot twist',\n",
       " 'pornographic',\n",
       " 'prank',\n",
       " 'psychedelic',\n",
       " 'psychological',\n",
       " 'queer',\n",
       " 'realism',\n",
       " 'revenge',\n",
       " 'romantic',\n",
       " 'sadist',\n",
       " 'satire',\n",
       " 'sci-fi',\n",
       " 'sentimental',\n",
       " 'storytelling',\n",
       " 'stupid',\n",
       " 'suicidal',\n",
       " 'suspenseful',\n",
       " 'thought-provoking',\n",
       " 'tragedy',\n",
       " 'violence',\n",
       " 'western',\n",
       " 'whimsical'}"
      ]
     },
     "execution_count": 5,
     "metadata": {},
     "output_type": "execute_result"
    }
   ],
   "source": [
    "categories"
   ]
  },
  {
   "cell_type": "code",
   "execution_count": 6,
   "metadata": {
    "scrolled": true
   },
   "outputs": [
    {
     "data": {
      "text/plain": [
       "'Two thousand years ago, Nhagruul the Foul, a sorcerer who reveled in corrupting the innocent and the spread of despair, neared the end of his mortal days and was dismayed. Consumed by hatred for the living, Nhagruul sold his soul to the demon Lords of the abyss so that his malign spirit would survive. In an excruciating ritual, Nhagrulls skin was flayed into pages, his bones hammered into a cover, and his diseased blood became the ink to pen a book most vile. Creatures vile and depraved rose from every pit and unclean barrow to partake in the fever of destruction. The kingdoms of Karkoth were consumed by this plague of evil until an order of holy warriors arose from the ashes. The Knights of the New Sun swore an oath to resurrect hope in the land. The purity of their hearts was so great that Pelor, the God of Light, gave the Knights powerful amulets with which to channel his power. Transcendent with divine might, the Knights of the New Sun pierced the shadow that had darkened the land for twelve hundred years and cast it asunder. But not all were awed by their glory. The disciples of Nhagruul disassembled the book and bribed three greedy souls to hide the pieces until they could be retrieved. The ink was discovered and destroyed but, despite years of searching, the cover and pages were never found. Peace ruled the land for centuries and the Knights got lost in the light of their own glory. As memory of the awful events faded so did the power of servants of Pelor. They unwittingly abandoned themselves in the incorrect belief that the Book of Vile Darkness could never again be made whole.Now, the remaining pieces have been discovered, and an ancient evil is attempting to bring them together and restore the relic and the evil it brought. But at the same time a potential new paladin has been named to the Knights of the New Sun to attempt to renew their power to fight this evil. But, to do so, he may need to go against all that he has held dear, risking more that just his own soul in his quest to destroy the evil that surrounds him at every turn.'"
      ]
     },
     "execution_count": 6,
     "metadata": {},
     "output_type": "execute_result"
    }
   ],
   "source": [
    "movies_and_categories[\"violence\"][0][\"synopsis\"]"
   ]
  },
  {
   "cell_type": "markdown",
   "metadata": {},
   "source": [
    "### Wiki Movies Dataset"
   ]
  },
  {
   "cell_type": "code",
   "execution_count": 7,
   "metadata": {},
   "outputs": [],
   "source": [
    "data = pd.read_csv(\"../dataset/wiki_movies/wiki_movie_plots_deduped.csv\")"
   ]
  },
  {
   "cell_type": "code",
   "execution_count": 9,
   "metadata": {},
   "outputs": [],
   "source": [
    "raw_categories = [[cat for cat in cats.split(\" \") if cat != 'unknown'] for cats in data[\"Genre\"].tolist()]"
   ]
  },
  {
   "cell_type": "code",
   "execution_count": 61,
   "metadata": {},
   "outputs": [
    {
     "data": {
      "text/plain": [
       "[[],\n",
       " ['western'],\n",
       " ['comedy'],\n",
       " [],\n",
       " [],\n",
       " ['short'],\n",
       " ['short', 'action/crime', 'western'],\n",
       " ['short', 'film'],\n",
       " ['biographical'],\n",
       " ['comedy'],\n",
       " ['comedy'],\n",
       " ['drama'],\n",
       " ['drama'],\n",
       " ['comedy'],\n",
       " ['adventure']]"
      ]
     },
     "execution_count": 61,
     "metadata": {},
     "output_type": "execute_result"
    }
   ],
   "source": [
    "raw_categories[5:20]"
   ]
  },
  {
   "cell_type": "code",
   "execution_count": 46,
   "metadata": {},
   "outputs": [
    {
     "data": {
      "text/plain": [
       "\"A bartender is working at a saloon, serving drinks to customers. After he fills a stereotypically Irish man's bucket with beer, Carrie Nation and her followers burst inside. They assault the Irish man, pulling his hat over his eyes and then dumping the beer over his head. The group then begin wrecking the bar, smashing the fixtures, mirrors, and breaking the cash register. The bartender then sprays seltzer water in Nation's face before a group of policemen appear and order everybody to leave.[1]\""
      ]
     },
     "execution_count": 46,
     "metadata": {},
     "output_type": "execute_result"
    }
   ],
   "source": [
    "set(data[\"Genre\"].tolist())"
   ]
  }
 ],
 "metadata": {
  "kernelspec": {
   "display_name": "nlp",
   "language": "python",
   "name": "nlp"
  },
  "language_info": {
   "codemirror_mode": {
    "name": "ipython",
    "version": 3
   },
   "file_extension": ".py",
   "mimetype": "text/x-python",
   "name": "python",
   "nbconvert_exporter": "python",
   "pygments_lexer": "ipython3",
   "version": "3.8.5"
  }
 },
 "nbformat": 4,
 "nbformat_minor": 4
}
